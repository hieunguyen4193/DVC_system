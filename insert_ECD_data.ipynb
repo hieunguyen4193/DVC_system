{
 "cells": [
  {
   "cell_type": "code",
   "execution_count": 1,
   "metadata": {},
   "outputs": [
    {
     "ename": "KeyError",
     "evalue": "'WGSbam'",
     "output_type": "error",
     "traceback": [
      "\u001b[0;31m---------------------------------------------------------------------------\u001b[0m",
      "\u001b[0;31mKeyError\u001b[0m                                  Traceback (most recent call last)",
      "Cell \u001b[0;32mIn[1], line 61\u001b[0m\n\u001b[1;32m     56\u001b[0m \u001b[38;5;66;03m#####-------------------------------------------------------#####\u001b[39;00m\n\u001b[1;32m     57\u001b[0m \u001b[38;5;66;03m##### initialize the RDSBucket adn ESearch classes\u001b[39;00m\n\u001b[1;32m     58\u001b[0m \u001b[38;5;66;03m#####-------------------------------------------------------#####\u001b[39;00m\n\u001b[1;32m     59\u001b[0m es \u001b[38;5;241m=\u001b[39m ESearch(es_credential \u001b[38;5;241m=\u001b[39m es_credential)\n\u001b[0;32m---> 61\u001b[0m bamBucket \u001b[38;5;241m=\u001b[39m \u001b[43mRDSBucket\u001b[49m\u001b[43m(\u001b[49m\u001b[43m \u001b[49m\n\u001b[1;32m     62\u001b[0m \u001b[43m                      \u001b[49m\u001b[43mminio_credential\u001b[49m\u001b[43m \u001b[49m\u001b[38;5;241;43m=\u001b[39;49m\u001b[43m \u001b[49m\u001b[43mminio_credential\u001b[49m\u001b[43m,\u001b[49m\u001b[43m \u001b[49m\n\u001b[1;32m     63\u001b[0m \u001b[43m                      \u001b[49m\u001b[43mbucketName\u001b[49m\u001b[43m \u001b[49m\u001b[38;5;241;43m=\u001b[39;49m\u001b[43m \u001b[49m\u001b[38;5;124;43m\"\u001b[39;49m\u001b[38;5;132;43;01m{}\u001b[39;49;00m\u001b[38;5;124;43m-\u001b[39;49m\u001b[38;5;132;43;01m{}\u001b[39;49;00m\u001b[38;5;124;43m\"\u001b[39;49m\u001b[38;5;241;43m.\u001b[39;49m\u001b[43mformat\u001b[49m\u001b[43m(\u001b[49m\u001b[43mproject\u001b[49m\u001b[38;5;241;43m.\u001b[39;49m\u001b[43mlower\u001b[49m\u001b[43m(\u001b[49m\u001b[43m)\u001b[49m\u001b[38;5;241;43m.\u001b[39;49m\u001b[43mreplace\u001b[49m\u001b[43m(\u001b[49m\u001b[38;5;124;43m\"\u001b[39;49m\u001b[38;5;124;43m_\u001b[39;49m\u001b[38;5;124;43m\"\u001b[39;49m\u001b[43m,\u001b[49m\u001b[43m \u001b[49m\u001b[38;5;124;43m\"\u001b[39;49m\u001b[38;5;124;43m-\u001b[39;49m\u001b[38;5;124;43m\"\u001b[39;49m\u001b[43m)\u001b[49m\u001b[43m,\u001b[49m\u001b[43m \u001b[49m\n\u001b[1;32m     64\u001b[0m \u001b[43m                                                  \u001b[49m\u001b[43msub_project\u001b[49m\u001b[38;5;241;43m.\u001b[39;49m\u001b[43mlower\u001b[49m\u001b[43m(\u001b[49m\u001b[43m)\u001b[49m\u001b[38;5;241;43m.\u001b[39;49m\u001b[43mreplace\u001b[49m\u001b[43m(\u001b[49m\u001b[38;5;124;43m\"\u001b[39;49m\u001b[38;5;124;43m_\u001b[39;49m\u001b[38;5;124;43m\"\u001b[39;49m\u001b[43m,\u001b[49m\u001b[43m \u001b[49m\u001b[38;5;124;43m\"\u001b[39;49m\u001b[38;5;124;43m-\u001b[39;49m\u001b[38;5;124;43m\"\u001b[39;49m\u001b[43m)\u001b[49m\u001b[43m)\u001b[49m\u001b[43m,\u001b[49m\n\u001b[1;32m     65\u001b[0m \u001b[43m                      \u001b[49m\u001b[43mPROFILE_NAME\u001b[49m\u001b[43m \u001b[49m\u001b[38;5;241;43m=\u001b[39;49m\u001b[43m \u001b[49m\u001b[38;5;124;43m\"\u001b[39;49m\u001b[38;5;124;43mWGSbam\u001b[39;49m\u001b[38;5;124;43m\"\u001b[39;49m\u001b[43m,\u001b[49m\n\u001b[1;32m     66\u001b[0m \u001b[43m                      \u001b[49m\u001b[43mDATA_PROFILES\u001b[49m\u001b[43m \u001b[49m\u001b[38;5;241;43m=\u001b[39;49m\u001b[43m \u001b[49m\u001b[43mDATA_PROFILES\u001b[49m\u001b[43m,\u001b[49m\n\u001b[1;32m     67\u001b[0m \u001b[43m                      \u001b[49m\u001b[43mes_credential\u001b[49m\u001b[43m \u001b[49m\u001b[38;5;241;43m=\u001b[39;49m\u001b[43m \u001b[49m\u001b[43mes_credential\u001b[49m\u001b[43m,\u001b[49m\u001b[43m \u001b[49m\n\u001b[1;32m     68\u001b[0m \u001b[43m                      \u001b[49m\u001b[43mversioning\u001b[49m\u001b[43m \u001b[49m\u001b[38;5;241;43m=\u001b[39;49m\u001b[43m \u001b[49m\u001b[38;5;28;43;01mTrue\u001b[39;49;00m\u001b[43m,\u001b[49m\u001b[43m \u001b[49m\n\u001b[1;32m     69\u001b[0m \u001b[43m                      \u001b[49m\u001b[43mverbose\u001b[49m\u001b[43m \u001b[49m\u001b[38;5;241;43m=\u001b[39;49m\u001b[43m \u001b[49m\u001b[38;5;28;43;01mFalse\u001b[39;49;00m\u001b[43m)\u001b[49m\n\u001b[1;32m     70\u001b[0m bamBucket\u001b[38;5;241m.\u001b[39minitBucket()\n\u001b[1;32m     72\u001b[0m \u001b[38;5;28;01mfor\u001b[39;00m path \u001b[38;5;129;01min\u001b[39;00m input_metadata_dict\u001b[38;5;241m.\u001b[39mkeys():\n",
      "File \u001b[0;32m~/src/DVC_system/RDSBucket_class.py:32\u001b[0m, in \u001b[0;36mRDSBucket.__init__\u001b[0;34m(self, minio_credential, bucketName, PROFILE_NAME, DATA_PROFILES, es_credential, versioning, verbose)\u001b[0m\n\u001b[1;32m     30\u001b[0m \u001b[38;5;28mself\u001b[39m\u001b[38;5;241m.\u001b[39mbucketName \u001b[38;5;241m=\u001b[39m bucketName\n\u001b[1;32m     31\u001b[0m \u001b[38;5;28mself\u001b[39m\u001b[38;5;241m.\u001b[39mPROFILE_NAME \u001b[38;5;241m=\u001b[39m PROFILE_NAME\n\u001b[0;32m---> 32\u001b[0m \u001b[38;5;28mself\u001b[39m\u001b[38;5;241m.\u001b[39mdataProfile \u001b[38;5;241m=\u001b[39m \u001b[43mDATA_PROFILES\u001b[49m\u001b[43m[\u001b[49m\u001b[43mPROFILE_NAME\u001b[49m\u001b[43m]\u001b[49m\n\u001b[1;32m     33\u001b[0m \u001b[38;5;28mself\u001b[39m\u001b[38;5;241m.\u001b[39mversioning \u001b[38;5;241m=\u001b[39m versioning\n\u001b[1;32m     34\u001b[0m \u001b[38;5;28mself\u001b[39m\u001b[38;5;241m.\u001b[39mverbose \u001b[38;5;241m=\u001b[39m verbose\n",
      "\u001b[0;31mKeyError\u001b[0m: 'WGSbam'"
     ]
    }
   ],
   "source": [
    "import json\n",
    "from pprint import pprint\n",
    "import os\n",
    "import time\n",
    "import pandas as pd \n",
    "from datetime import datetime\n",
    "import pathlib\n",
    "\n",
    "from dotenv import load_dotenv\n",
    "from elasticsearch import Elasticsearch\n",
    "\n",
    "import minio\n",
    "from minio.error import S3Error\n",
    "from minio.commonconfig import ENABLED\n",
    "from minio.versioningconfig import VersioningConfig\n",
    "\n",
    "from RDSBucket_class import *\n",
    "from data_profiles import *\n",
    "\n",
    "import warnings\n",
    "warnings.filterwarnings(\"ignore\")\n",
    "##### input args\n",
    "path_to_main_input = \"./examples/dummy_data\"    \n",
    "minio_credential = \"credentials.macstudio.json\"\n",
    "es_credential = \"es_credential.json\"\n",
    "\n",
    "# define path to data folder, seperated by data type (bam, cov, features, ...)\n",
    "path_to_ecd_data = \"./examples/dummy_from_real\"\n",
    "path_to_metadata_dir = \"./ECD_metadata\"\n",
    "\n",
    "#####-------------------------------------------------------#####\n",
    "##### Preprocessing data to match data profile\n",
    "#####-------------------------------------------------------#####\n",
    "filetype = \"bam\"\n",
    "project = \"ECD\"\n",
    "sub_project = \"ECD_WGS_hg19\"\n",
    "all_files = [item for item in pathlib.Path(os.path.join(path_to_ecd_data, filetype, sub_project)).glob(\"*.{}\".format(filetype))]\n",
    "metadata = pd.read_excel(os.path.join(path_to_metadata_dir, \"metadata_WGS_20240606.xlsx\"))\n",
    "\n",
    "inputdf = pd.DataFrame(data = [str(item) for item in all_files], columns = [\"path\"])\n",
    "inputdf[\"Labcode\"] = inputdf[\"path\"].apply(lambda x: x.split(\"/\")[-1].split(\"_\")[0].split(\"-\")[1])\n",
    "inputdf[\"SequencingID\"] = inputdf[\"Labcode\"]\n",
    "inputdf[\"FileName\"] = inputdf[\"path\"].apply(lambda x: x.split(\"/\")[-1])\n",
    "inputdf[\"FileType\"] = filetype\n",
    "inputdf[\"Date\"] = datetime.now().strftime(\"%Y-%m-%d\")\n",
    "inputdf[\"pipeline\"] = \"ECD_WGS_hg19\"\n",
    "inputdf[\"project\"] = project\n",
    "inputdf[\"sub_project\"] = \"ECD_WGS\"\n",
    "inputdf[\"ref_genome\"] = \"hg19\"\n",
    "inputdf[\"depth\"] = \"low\"\n",
    "inputdf[\"cancer_label\"] = inputdf[\"Labcode\"].apply(lambda x: metadata[metadata[\"SampleID\"] == x][\"Label\"].values[0])\n",
    "\n",
    "input_metadata = inputdf.set_index(\"path\")\n",
    "input_metadata_dict = input_metadata.to_dict(orient = \"index\") # the input metadata is ready to be added to the database elasticsearch\n",
    "\n",
    "#####-------------------------------------------------------#####\n",
    "##### initialize the RDSBucket adn ESearch classes\n",
    "#####-------------------------------------------------------#####\n",
    "es = ESearch(es_credential = es_credential)\n",
    "\n",
    "bamBucket = RDSBucket( \n",
    "                      minio_credential = minio_credential, \n",
    "                      bucketName = \"{}-{}\".format(project.lower().replace(\"_\", \"-\"), \n",
    "                                                  sub_project.lower().replace(\"_\", \"-\")),\n",
    "                      PROFILE_NAME = \"wgsbam\",\n",
    "                      DATA_PROFILES = DATA_PROFILES,\n",
    "                      es_credential = es_credential, \n",
    "                      versioning = True, \n",
    "                      verbose = False)\n",
    "bamBucket.initBucket()\n",
    "\n",
    "for path in input_metadata_dict.keys():\n",
    "    file_metadata = input_metadata_dict[path]\n",
    "    bamBucket.upload_file_to_bucket(path_to_file = path, \n",
    "                                    object_name= file_metadata[\"FileName\"], \n",
    "                                    file_metadata = file_metadata)\n",
    "\n"
   ]
  },
  {
   "cell_type": "code",
   "execution_count": null,
   "metadata": {},
   "outputs": [
    {
     "data": {
      "text/plain": [
       "'a'"
      ]
     },
     "execution_count": 30,
     "metadata": {},
     "output_type": "execute_result"
    }
   ],
   "source": [
    "\"A\".lower()"
   ]
  }
 ],
 "metadata": {
  "kernelspec": {
   "display_name": "minio_dev",
   "language": "python",
   "name": "python3"
  },
  "language_info": {
   "codemirror_mode": {
    "name": "ipython",
    "version": 3
   },
   "file_extension": ".py",
   "mimetype": "text/x-python",
   "name": "python",
   "nbconvert_exporter": "python",
   "pygments_lexer": "ipython3",
   "version": "3.9.19"
  }
 },
 "nbformat": 4,
 "nbformat_minor": 2
}
