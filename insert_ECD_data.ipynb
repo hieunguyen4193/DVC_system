{
 "cells": [
  {
   "cell_type": "code",
   "execution_count": 1,
   "metadata": {},
   "outputs": [
    {
     "name": "stdout",
     "output_type": "stream",
     "text": [
      "Bucket 'ecd-ecd-wgs-hg19' created successfully.\n",
      "Bucket 'ecd-ecd-wgs-hg38' created successfully.\n"
     ]
    }
   ],
   "source": [
    "import json\n",
    "from pprint import pprint\n",
    "import os\n",
    "import time\n",
    "import pandas as pd \n",
    "from datetime import datetime\n",
    "import pathlib\n",
    "\n",
    "from dotenv import load_dotenv\n",
    "from elasticsearch import Elasticsearch\n",
    "\n",
    "import minio\n",
    "from minio.error import S3Error\n",
    "from minio.commonconfig import ENABLED\n",
    "from minio.versioningconfig import VersioningConfig\n",
    "\n",
    "from RDSBucket_class import *\n",
    "from data_profiles import *\n",
    "\n",
    "import warnings\n",
    "warnings.filterwarnings(\"ignore\")\n",
    "##### input args\n",
    "path_to_main_input = \"./examples/dummy_data\"    \n",
    "minio_credential = \"credentials.macstudio.json\"\n",
    "es_credential = \"es_credential.json\"\n",
    "\n",
    "# define path to data folder, seperated by data type (bam, cov, features, ...)\n",
    "path_to_ecd_data = \"./examples/dummy_from_real\"\n",
    "path_to_metadata_dir = \"./ECD_metadata\"\n",
    "\n",
    "#####-------------------------------------------------------#####\n",
    "##### Preprocessing data to match data profile\n",
    "#####-------------------------------------------------------#####\n",
    "filetype = \"bam\"\n",
    "project = \"ECD\"\n",
    "for sub_project in [\"ECD_WGS_hg19\", \"ECD_WGS_hg38\"]:\n",
    "    all_files = [item for item in pathlib.Path(os.path.join(path_to_ecd_data, filetype, sub_project)).glob(\"*.{}\".format(filetype))]\n",
    "    metadata = pd.read_excel(os.path.join(path_to_metadata_dir, \"metadata_WGS_20240606.xlsx\"))\n",
    "\n",
    "    inputdf = pd.DataFrame(data = [str(item) for item in all_files], columns = [\"path\"])\n",
    "    inputdf[\"Labcode\"] = inputdf[\"path\"].apply(lambda x: x.split(\"/\")[-1].split(\"_\")[0].split(\"-\")[1])\n",
    "    inputdf[\"SequencingID\"] = inputdf[\"Labcode\"]\n",
    "    inputdf[\"FileName\"] = inputdf[\"path\"].apply(lambda x: x.split(\"/\")[-1])\n",
    "    inputdf[\"FileType\"] = filetype\n",
    "    inputdf[\"Date\"] = datetime.now().strftime(\"%Y-%m-%d\")\n",
    "    inputdf[\"pipeline\"] = sub_project\n",
    "    inputdf[\"project\"] = project\n",
    "    inputdf[\"sub_project\"] = \"_\".join(sub_project.split(\"_\")[0:2])\n",
    "    inputdf[\"ref_genome\"] = sub_project.split(\"_\")[-1]\n",
    "    inputdf[\"depth\"] = \"low\"\n",
    "    inputdf[\"cancer_label\"] = inputdf[\"Labcode\"].apply(lambda x: metadata[metadata[\"SampleID\"] == x][\"Label\"].values[0])\n",
    "\n",
    "    input_metadata = inputdf.set_index(\"path\")\n",
    "    input_metadata_dict = input_metadata.to_dict(orient = \"index\") # the input metadata is ready to be added to the database elasticsearch\n",
    "\n",
    "    #####-------------------------------------------------------#####\n",
    "    ##### initialize the RDSBucket adn ESearch classes\n",
    "    #####-------------------------------------------------------#####\n",
    "    es = ESearch(es_credential = es_credential)\n",
    "\n",
    "    bamBucket = RDSBucket( \n",
    "                        minio_credential = minio_credential, \n",
    "                        bucketName = \"{}-{}\".format(project.lower().replace(\"_\", \"-\"), \n",
    "                                                    sub_project.lower().replace(\"_\", \"-\")),\n",
    "                        PROFILE_NAME = \"wgsbam\",\n",
    "                        DATA_PROFILES = DATA_PROFILES,\n",
    "                        es_credential = es_credential, \n",
    "                        versioning = True, \n",
    "                        verbose = False)\n",
    "    bamBucket.initBucket()\n",
    "\n",
    "    for path in input_metadata_dict.keys():\n",
    "        file_metadata = input_metadata_dict[path]\n",
    "        bamBucket.upload_file_to_bucket(path_to_file = path, \n",
    "                                        object_name= file_metadata[\"FileName\"], \n",
    "                                        file_metadata = file_metadata)\n",
    "\n"
   ]
  }
 ],
 "metadata": {
  "kernelspec": {
   "display_name": "minio_dev",
   "language": "python",
   "name": "python3"
  },
  "language_info": {
   "codemirror_mode": {
    "name": "ipython",
    "version": 3
   },
   "file_extension": ".py",
   "mimetype": "text/x-python",
   "name": "python",
   "nbconvert_exporter": "python",
   "pygments_lexer": "ipython3",
   "version": "3.9.19"
  }
 },
 "nbformat": 4,
 "nbformat_minor": 2
}
