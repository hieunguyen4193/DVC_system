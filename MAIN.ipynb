{
 "cells": [
  {
   "cell_type": "code",
   "execution_count": 7,
   "metadata": {},
   "outputs": [],
   "source": [
    "##### connect to the elasticsearch server\n",
    "import json\n",
    "from pprint import pprint\n",
    "import os\n",
    "import time\n",
    "import pandas as pd \n",
    "from datetime import datetime\n",
    "\n",
    "import pathlib\n",
    "from dotenv import load_dotenv\n",
    "from elasticsearch import Elasticsearch\n",
    "\n",
    "from DataProfile_JSON_db import *\n",
    "from minio_utils import *\n",
    "from classes import *\n",
    "\n",
    "load_dotenv()\n",
    "\n",
    "##### dummy files to upload to minio and elasticsearch\n",
    "path_to_main_input = \"./examples/dummy_data\"    \n",
    "my_es = ESearch(\"elastic\", \"genov4\")\n"
   ]
  },
  {
   "cell_type": "code",
   "execution_count": 8,
   "metadata": {},
   "outputs": [],
   "source": [
    "##### prepare data to be added to database\n",
    "file_type = \"bam\"\n",
    "input_files = [item for item in pathlib.Path(os.path.join(path_to_main_input, file_type)).glob(\"*.{}\".format(file_type))]\n",
    "input_metadata = pd.DataFrame(data = [item.name for item in input_files], columns = [\"FileName\"])\n",
    "input_metadata[\"FileType\"] = file_type\n",
    "input_metadata[\"Labcode\"] = input_metadata[\"FileName\"].apply(lambda x: x.replace(\".{}\".format(file_type), \"\"))\n",
    "input_metadata[\"path\"] = [\"./examples/dummy_data/{}/{}.{}\".format(file_type, labcode, file_type) for labcode in input_metadata.Labcode.values]\n",
    "input_metadata[\"project\"] = \"ECD\"\n",
    "input_metadata[\"sub_project\"] = \"ECD_read_based\"\n",
    "input_metadata[\"Date\"] = datetime.now()\n",
    "input_metadata[\"pipeline\"] = \"bismark_wgbs\"\n",
    "input_metadata = input_metadata.set_index(\"path\")\n",
    "input_metadata_dict = input_metadata.to_dict(orient = \"index\") # the input metadata is ready to be added to the database elasticsearch\n",
    "\n",
    "##### load the data profile database\n",
    "db = DataProfileDB(\"ALL_DATA_PROFILES.json\")\n",
    "\n",
    "##### define the minio bucket to upload the files\n",
    "bucket_name = \"bam\"\n",
    "\n",
    "##### choose the data profile name, example: choose \"dev2\"\n",
    "profile_name = \"dev2\"\n",
    "\n",
    "##### check if the index is ready in the elasticsearch database, if not, create new.\n",
    "if profile_name in my_es.all_indices == False:\n",
    "    my_es.create_index(index_name = profile_name, metadata_profile = db.get_record(profile_name)[profile_name])\n",
    "\n",
    "path_to_file = list(input_metadata_dict.keys())[1]\n",
    "sample_metadata = input_metadata_dict[path_to_file]\n",
    "    \n",
    "def insert_data_to_database(path_to_file, sample_metadata, profile_name, my_es, bucket_name, minio_credentials):\n",
    "    \"\"\"\n",
    "    Insert the data to MINIO database and metadata to ELASTICSEARCH database.\n",
    "\n",
    "    Args:\n",
    "        path_to_file (str): The path to the file to be uploaded.\n",
    "        sample_metadata (dict): The metadata associated with the file.\n",
    "        profile_name (str): The name of the profile in the Elasticsearch database.\n",
    "        my_es: An instance of the Elasticsearch client.\n",
    "        bucket_name (str): The name of the bucket in the MINIO database.\n",
    "        minio_credentials: The credentials required to access the MINIO database.\n",
    "        \n",
    "    \"\"\"\n",
    "\n",
    "    object_name = sample_metadata[\"FileName\"]\n",
    "\n",
    "    ##### while the metadata will be added to the elasticsearch database\n",
    "    my_es.insert_document(index=profile_name, document=sample_metadata)\n",
    "\n",
    "    ##### the file will be uploaded to the MINIO database\n",
    "    upload_file_with_metadata(\n",
    "        bucket_name=bucket_name,\n",
    "        object_name=object_name,\n",
    "        file_to_upload=path_to_file,\n",
    "        metadata=sample_metadata,\n",
    "        minio_credentials=minio_credentials,\n",
    "        verbose=False)\n"
   ]
  },
  {
   "cell_type": "code",
   "execution_count": 9,
   "metadata": {},
   "outputs": [
    {
     "data": {
      "text/plain": [
       "<classes.ESearch at 0x1183b01f0>"
      ]
     },
     "execution_count": 9,
     "metadata": {},
     "output_type": "execute_result"
    }
   ],
   "source": [
    "my_es"
   ]
  }
 ],
 "metadata": {
  "kernelspec": {
   "display_name": "minio_dev",
   "language": "python",
   "name": "python3"
  },
  "language_info": {
   "codemirror_mode": {
    "name": "ipython",
    "version": 3
   },
   "file_extension": ".py",
   "mimetype": "text/x-python",
   "name": "python",
   "nbconvert_exporter": "python",
   "pygments_lexer": "ipython3",
   "version": "3.9.19"
  }
 },
 "nbformat": 4,
 "nbformat_minor": 2
}
