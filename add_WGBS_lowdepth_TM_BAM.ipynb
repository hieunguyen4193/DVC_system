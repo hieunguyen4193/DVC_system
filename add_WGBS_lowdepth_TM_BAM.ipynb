{
 "cells": [
  {
   "cell_type": "code",
   "execution_count": 1,
   "metadata": {},
   "outputs": [
    {
     "name": "stdout",
     "output_type": "stream",
     "text": [
      "Bucket 'bam' already exists. Cannot create bucket with the same name. Please choose another name\n"
     ]
    },
    {
     "name": "stderr",
     "output_type": "stream",
     "text": [
      "100%|██████████| 15384/15384 [11:45:08<00:00,  2.75s/it]  \n"
     ]
    }
   ],
   "source": [
    "import pandas as pd\n",
    "import os \n",
    "import pathlib \n",
    "import glob\n",
    "from datetime import datetime\n",
    "from tqdm import tqdm\n",
    "\n",
    "from dotenv import load_dotenv\n",
    "from elasticsearch import Elasticsearch\n",
    "\n",
    "import minio\n",
    "from minio.error import S3Error\n",
    "from minio.commonconfig import ENABLED\n",
    "from minio.versioningconfig import VersioningConfig\n",
    "\n",
    "from RDSBucket_class import *\n",
    "from data_profiles import *\n",
    "\n",
    "import warnings\n",
    "warnings.filterwarnings(\"ignore\")\n",
    "\n",
    "#####----------------------------------------------------------------#####\n",
    "##### preprocessing metadata for MRD and WGS feature dataset.\n",
    "#####----------------------------------------------------------------#####\n",
    "\n",
    "# path_to_project_src = \"/Users/hieunguyen/src/DVC_system\"\n",
    "path_to_project_src = \"/Users/hieunguyen/src/DVC_system\"\n",
    "\n",
    "path_to_save_prep_metadata = os.path.join(path_to_project_src, \"examples/dummy_from_real/prep_metadata\")\n",
    "os.system(\"mkdir -p {}\".format(path_to_save_prep_metadata))\n",
    "data_name = \"WGBS_lowdepth\"\n",
    "sub_data_name = \"TM_BAM\"\n",
    "\n",
    "all_files = [item for item in pathlib.Path(\"{}/examples/dummy_from_real/{}/{}\".format(path_to_project_src, data_name, sub_data_name)).glob(\"*\")\n",
    "                if \".DS\" not in item.name]  \n",
    "metadata = pd.read_excel(\"./ECD_metadata/metadata_cfDNA_lowpdepth.xlsx\")\n",
    "metadata[\"FileName\"] = metadata[\"TM_BAM\"].apply(lambda x: os.path.basename(str(x)))\n",
    "\n",
    "#### generate metadata template according to the profile \"bamfile\"\n",
    "if os.path.isfile(os.path.join(path_to_save_prep_metadata, \"{}.{}.metadata.csv\".format(data_name, sub_data_name))) == False:\n",
    "    maindf = pd.DataFrame(data = [str(item) for item in all_files], columns=[\"path\"])\n",
    "    maindf[\"FileName\"] = maindf[\"path\"].apply(lambda x: os.path.basename(x))\n",
    "    maindf[\"FileType\"] = \"intemediate_file\"\n",
    "    maindf[\"FileExt\"] = maindf[\"path\"].apply(lambda x: os.path.basename(x).split(\".\")[-1])\n",
    "    maindf[\"Labcode\"] = maindf[\"FileName\"].apply(lambda x: metadata[metadata[\"FileName\"] == x][\"SampleID\"].values[0])\n",
    "    maindf[\"SequencingID\"] = maindf[\"Labcode\"]\n",
    "    maindf[\"Date\"] = datetime.now().strftime(\"%Y-%m-%d %H:%M:%S\")\n",
    "    maindf[\"Pipeline\"] = \"ECD_WGBS_TM_hg19\"\n",
    "    maindf[\"Pipeline_params\"] = \"default\"\n",
    "    maindf[\"Pipeline_repo\"] = \"gitlab\"\n",
    "    maindf[\"Project\"] = \"ECD_WGBS\"\n",
    "    maindf[\"Sub_project\"] = \"targeted_450_regions\"\n",
    "    maindf[\"Ref_genome\"] = \"hg19\"\n",
    "\n",
    "    maindf[\"label1\"] = maindf[\"Labcode\"].apply(lambda x: metadata[metadata[\"SampleID\"] == x][\"Label\"].values[0] if x in metadata[\"SampleID\"].values else \"not available\")\n",
    "    maindf[\"label2\"] = maindf[\"Labcode\"].apply(lambda x: metadata[metadata[\"SampleID\"] == x][\"Run_TM\"].values[0] if x in metadata[\"SampleID\"].values else \"not available\")\n",
    "    maindf[\"label3\"] = maindf[\"Labcode\"].apply(lambda x: metadata[metadata[\"SampleID\"] == x][\"Run_GW\"].values[0] if x in metadata[\"SampleID\"].values else \"not available\")\n",
    "\n",
    "    maindf[\"label4\"] = \"not available\"\n",
    "\n",
    "    maindf[\"Note\"] = \"not available\"\n",
    "    maindf[\"member\"] = \"hieunguyen,hieutran\"\n",
    "    maindf.to_csv(os.path.join(path_to_save_prep_metadata, \"{}.{}.metadata.csv\".format(data_name, sub_data_name)), index = False)\n",
    "else:\n",
    "    maindf = pd.read_csv(os.path.join(path_to_save_prep_metadata, \"{}.{}.metadata.csv\".format(data_name, sub_data_name)))\n",
    "    print(\"The metadata has been already generated\")\n",
    "maindf = maindf.set_index(\"path\")\n",
    "input_dict = maindf.to_dict(orient = \"index\") # the input metadata is ready to be added to the database elasticsearch\n",
    "\n",
    "##### Credential\n",
    "path_to_main_input = \"./examples/dummy_data\"    \n",
    "minio_credential = \"credentials.macstudio.json\"\n",
    "es_credential = \"es_credential.json\"\n",
    "\n",
    "bamBucket = RDSBucket( \n",
    "                        minio_credential = minio_credential, \n",
    "                        bucketName = \"bam\",\n",
    "                        PROFILE_NAME = \"bamfile\",\n",
    "                        DATA_PROFILES = DATA_PROFILES,\n",
    "                        es_credential = es_credential, \n",
    "                        versioning = True, \n",
    "                        verbose = False)\n",
    "bamBucket.initBucket()\n",
    "\n",
    "for path in tqdm(input_dict.keys()):\n",
    "    file_metadata = input_dict[path]\n",
    "    bamBucket.upload_file_to_bucket(path_to_file = path, \n",
    "                                    object_name= file_metadata[\"FileName\"], \n",
    "                                    file_metadata = file_metadata)"
   ]
  }
 ],
 "metadata": {
  "kernelspec": {
   "display_name": "minio_dev",
   "language": "python",
   "name": "python3"
  },
  "language_info": {
   "codemirror_mode": {
    "name": "ipython",
    "version": 3
   },
   "file_extension": ".py",
   "mimetype": "text/x-python",
   "name": "python",
   "nbconvert_exporter": "python",
   "pygments_lexer": "ipython3",
   "version": "3.9.19"
  }
 },
 "nbformat": 4,
 "nbformat_minor": 2
}
