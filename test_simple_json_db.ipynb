{
 "cells": [
  {
   "cell_type": "code",
   "execution_count": 40,
   "metadata": {},
   "outputs": [],
   "source": [
    "import json\n",
    "import os\n",
    "\n",
    "class DataProfileDB:\n",
    "    def __init__(self, filename):\n",
    "        self.filename = filename\n",
    "        self.data = self.load_database()\n",
    "        self.record_names = [list(item.keys())[0] for item in self.data]\n",
    "\n",
    "    def load_database(self):\n",
    "        if not os.path.exists(self.filename):\n",
    "            with open(self.filename, 'w') as db_file:\n",
    "                json.dump([], db_file)\n",
    "        with open(self.filename, 'r') as db_file:\n",
    "            return json.load(db_file)\n",
    "\n",
    "    def save_database(self):\n",
    "        with open(self.filename, 'w') as db_file:\n",
    "            json.dump(self.data, db_file, indent=4)\n",
    "\n",
    "    def create_record(self, record, record_name, overwrite = False):\n",
    "        if record_name in self.record_names:\n",
    "            if overwrite == False:\n",
    "                raise ValueError(f\"Record with name '{record_name}' already exists.\")\n",
    "            else:\n",
    "                self.delete_record(record_name)\n",
    "                self.data.append({record_name: record})\n",
    "                self.save_database()\n",
    "        else:\n",
    "            self.data.append({record_name: record})\n",
    "            self.save_database()\n",
    "\n",
    "    def read_records(self):\n",
    "        return self.data\n",
    "\n",
    "    def update_record(self, record_id, updated_record):\n",
    "        self.data[record_id] = updated_record\n",
    "        self.save_database()\n",
    "\n",
    "    def delete_record(self, record_name):\n",
    "        # find index of the record\n",
    "        id_to_delete = [list(item.keys())[0] for item in db.data].index(record_name)\n",
    "        del self.data[id_to_delete]\n",
    "        self.save_database()\n",
    "\n",
    "# Example usage\n",
    "db = DataProfileDB(\"ALL_DATA_PROFILES.json\")\n",
    "\n",
    "test_metadata_profile = {\n",
    "    \"properties\": {\n",
    "        \"Labcode\": {\n",
    "            \"type\": \"text\"\n",
    "        },\n",
    "        \"SequencingID\": {\n",
    "            \"type\": \"text\"\n",
    "        },\n",
    "        \"FileName\": {\n",
    "            \"type\": \"text\"\n",
    "        },\n",
    "        \"FileType\": {\n",
    "            \"type\": \"text\"\n",
    "        },\n",
    "        \"Date\": {\n",
    "            \"type\": \"date\"\n",
    "        },\n",
    "        \"pipeline\": {\n",
    "            \"type\": \"text\"\n",
    "        }\n",
    "    }\n",
    "}\n",
    "\n",
    "db.create_record(\n",
    "    record = test_metadata_profile, \n",
    "    record_name = \"dev\",\n",
    "    overwrite = True)\n",
    "    \n"
   ]
  },
  {
   "cell_type": "code",
   "execution_count": 42,
   "metadata": {},
   "outputs": [
    {
     "data": {
      "text/plain": [
       "[{'dev': {'properties': {'Labcode': {'type': 'text'},\n",
       "    'SequencingID': {'type': 'text'},\n",
       "    'FileName': {'type': 'text'},\n",
       "    'FileType': {'type': 'text'},\n",
       "    'Date': {'type': 'date'},\n",
       "    'pipeline': {'type': 'text'}}}}]"
      ]
     },
     "execution_count": 42,
     "metadata": {},
     "output_type": "execute_result"
    }
   ],
   "source": [
    "db.data"
   ]
  }
 ],
 "metadata": {
  "kernelspec": {
   "display_name": "nguyen",
   "language": "python",
   "name": "python3"
  },
  "language_info": {
   "codemirror_mode": {
    "name": "ipython",
    "version": 3
   },
   "file_extension": ".py",
   "mimetype": "text/x-python",
   "name": "python",
   "nbconvert_exporter": "python",
   "pygments_lexer": "ipython3",
   "version": "3.9.9"
  }
 },
 "nbformat": 4,
 "nbformat_minor": 2
}
