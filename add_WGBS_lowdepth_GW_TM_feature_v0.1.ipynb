{
 "cells": [
  {
   "cell_type": "code",
   "execution_count": 1,
   "metadata": {},
   "outputs": [
    {
     "name": "stdout",
     "output_type": "stream",
     "text": [
      "The metadata has been already generated\n",
      "Bucket 'wgbsfeature' already exists. Cannot create bucket with the same name. Please choose another name\n"
     ]
    },
    {
     "name": "stderr",
     "output_type": "stream",
     "text": [
      "  0%|          | 0/15315 [00:02<?, ?it/s]\n"
     ]
    },
    {
     "ename": "ValueError",
     "evalue": "Cannot upload file. The file already exists in the bucket. Please choose another name or set update_version = True",
     "output_type": "error",
     "traceback": [
      "\u001b[0;31m---------------------------------------------------------------------------\u001b[0m",
      "\u001b[0;31mValueError\u001b[0m                                Traceback (most recent call last)",
      "Cell \u001b[0;32mIn[1], line 93\u001b[0m\n\u001b[1;32m     91\u001b[0m \u001b[38;5;28;01mfor\u001b[39;00m path \u001b[38;5;129;01min\u001b[39;00m tqdm(input_dict\u001b[38;5;241m.\u001b[39mkeys()):\n\u001b[1;32m     92\u001b[0m     file_metadata \u001b[38;5;241m=\u001b[39m input_dict[path]\n\u001b[0;32m---> 93\u001b[0m     \u001b[43mbamBucket\u001b[49m\u001b[38;5;241;43m.\u001b[39;49m\u001b[43mupload_file_to_bucket\u001b[49m\u001b[43m(\u001b[49m\u001b[43mpath_to_file\u001b[49m\u001b[43m \u001b[49m\u001b[38;5;241;43m=\u001b[39;49m\u001b[43m \u001b[49m\u001b[43mpath\u001b[49m\u001b[43m,\u001b[49m\u001b[43m \u001b[49m\n\u001b[1;32m     94\u001b[0m \u001b[43m                                    \u001b[49m\u001b[43mobject_name\u001b[49m\u001b[38;5;241;43m=\u001b[39;49m\u001b[43m \u001b[49m\u001b[43mfile_metadata\u001b[49m\u001b[43m[\u001b[49m\u001b[38;5;124;43m\"\u001b[39;49m\u001b[38;5;124;43mFileName\u001b[39;49m\u001b[38;5;124;43m\"\u001b[39;49m\u001b[43m]\u001b[49m\u001b[43m,\u001b[49m\u001b[43m \u001b[49m\n\u001b[1;32m     95\u001b[0m \u001b[43m                                    \u001b[49m\u001b[43mfile_metadata\u001b[49m\u001b[43m \u001b[49m\u001b[38;5;241;43m=\u001b[39;49m\u001b[43m \u001b[49m\u001b[43mfile_metadata\u001b[49m\u001b[43m)\u001b[49m\n",
      "File \u001b[0;32m~/src/DVC_system/RDSBucket_class.py:111\u001b[0m, in \u001b[0;36mRDSBucket.upload_file_to_bucket\u001b[0;34m(self, path_to_file, object_name, file_metadata, update_version)\u001b[0m\n\u001b[1;32m    109\u001b[0m \u001b[38;5;66;03m##### check if the object_name is already in the bucket. \u001b[39;00m\n\u001b[1;32m    110\u001b[0m \u001b[38;5;28;01mif\u001b[39;00m (object_name \u001b[38;5;129;01min\u001b[39;00m [item\u001b[38;5;241m.\u001b[39mobject_name \u001b[38;5;28;01mfor\u001b[39;00m item \u001b[38;5;129;01min\u001b[39;00m \u001b[38;5;28mself\u001b[39m\u001b[38;5;241m.\u001b[39mminio_client\u001b[38;5;241m.\u001b[39mlist_objects(\u001b[38;5;28mself\u001b[39m\u001b[38;5;241m.\u001b[39mbucketName, recursive\u001b[38;5;241m=\u001b[39m\u001b[38;5;28;01mTrue\u001b[39;00m)]) \u001b[38;5;241m==\u001b[39m \u001b[38;5;28;01mTrue\u001b[39;00m \u001b[38;5;129;01mand\u001b[39;00m (update_version \u001b[38;5;241m==\u001b[39m \u001b[38;5;28;01mFalse\u001b[39;00m):\n\u001b[0;32m--> 111\u001b[0m     \u001b[38;5;28;01mraise\u001b[39;00m \u001b[38;5;167;01mValueError\u001b[39;00m(\u001b[38;5;124m\"\u001b[39m\u001b[38;5;124mCannot upload file. The file already exists in the bucket. Please choose another name or set update_version = True\u001b[39m\u001b[38;5;124m\"\u001b[39m)\n\u001b[1;32m    112\u001b[0m \u001b[38;5;28;01melse\u001b[39;00m:       \n\u001b[1;32m    113\u001b[0m     \u001b[38;5;66;03m##### add bucket name to the file metadata\u001b[39;00m\n\u001b[1;32m    114\u001b[0m     file_metadata \u001b[38;5;241m=\u001b[39m {\u001b[38;5;241m*\u001b[39m\u001b[38;5;241m*\u001b[39mfile_metadata, \u001b[38;5;241m*\u001b[39m\u001b[38;5;241m*\u001b[39m{\u001b[38;5;124m\"\u001b[39m\u001b[38;5;124mbucket\u001b[39m\u001b[38;5;124m\"\u001b[39m: \u001b[38;5;28mself\u001b[39m\u001b[38;5;241m.\u001b[39mbucketName}}\n",
      "\u001b[0;31mValueError\u001b[0m: Cannot upload file. The file already exists in the bucket. Please choose another name or set update_version = True"
     ]
    }
   ],
   "source": [
    "import pandas as pd\n",
    "import os \n",
    "import pathlib \n",
    "import glob\n",
    "from datetime import datetime\n",
    "from tqdm import tqdm\n",
    "\n",
    "from dotenv import load_dotenv\n",
    "from elasticsearch import Elasticsearch\n",
    "\n",
    "import minio\n",
    "from minio.error import S3Error\n",
    "from minio.commonconfig import ENABLED\n",
    "from minio.versioningconfig import VersioningConfig\n",
    "\n",
    "from RDSBucket_class import *\n",
    "from data_profiles import *\n",
    "\n",
    "import warnings\n",
    "warnings.filterwarnings(\"ignore\")\n",
    "\n",
    "#####----------------------------------------------------------------#####\n",
    "##### preprocessing metadata for MRD and WGS feature dataset.\n",
    "#####----------------------------------------------------------------#####\n",
    "\n",
    "# path_to_project_src = \"/Users/hieunguyen/src/DVC_system\"\n",
    "path_to_project_src = \"/Users/hieunguyen/src/DVC_system\"\n",
    "\n",
    "path_to_save_prep_metadata = os.path.join(path_to_project_src, \"examples/dummy_from_real/prep_metadata\")\n",
    "os.system(\"mkdir -p {}\".format(path_to_save_prep_metadata))\n",
    "\n",
    "data_name = \"WGBS_lowdepth\"\n",
    "sub_data_name = \"GW_TM_feature_v0.1\"\n",
    "feature_name = \"CNA\"\n",
    "\n",
    "all_files = [item for item in pathlib.Path(\"{}/examples/dummy_from_real/{}/{}/{}\".format(path_to_project_src, data_name, sub_data_name, feature_name)).glob(\"*\")\n",
    "                if \".DS\" not in item.name]  \n",
    "metadata = pd.read_excel(\"./ECD_metadata/metadata_cfDNA_lowpdepth.xlsx\")\n",
    "if os.path.isfile(os.path.join(path_to_save_prep_metadata, \"{}.{}.{}.metadata.csv\".format(data_name, sub_data_name, feature_name))) == False:\n",
    "    maindf = pd.DataFrame(data = [str(item) for item in all_files], columns=[\"path\"])\n",
    "    maindf[\"FileName\"] = maindf[\"path\"].apply(lambda x: \"{}_{}\".format(feature_name, x.split(\"/\")[-1]))\n",
    "    maindf[\"FeatureName\"] = feature_name\n",
    "    maindf[\"Labcode\"] = maindf[\"FileName\"].apply(lambda x: x.replace(\".csv\", \"\"))\n",
    "    maindf = maindf[maindf[\"Labcode\"].isin(metadata.SampleID.unique())]\n",
    "    maindf[\"SequencingID\"] = maindf[\"Labcode\"]\n",
    "    maindf[\"Description\"] = \"CNA - copy number aberration feature, from WGBS low depth data\"\n",
    "    maindf[\"FeatureVersion\"] = \"v0.1\"\n",
    "    maindf[\"Date\"] = datetime.now().strftime(\"%Y-%m-%d %H:%M:%S\")\n",
    "    maindf[\"Pipeline\"] = \"ECD_WGBS_bsalign\"\n",
    "    maindf[\"Pipeline_params\"] = \"default\"\n",
    "    maindf[\"Pipeline_repo\"] = \"gitlab\"\n",
    "    maindf[\"Feature_Pipeline\"] = \"WCD_WGBS_bsalign_GW_TM_feature_v0.1\"\n",
    "    maindf[\"Feature_Pipeline_params\"] = \"default\"\n",
    "    maindf[\"Feature_Pipeline_repo\"] = \"gitlab\"\n",
    "    maindf[\"Ref_genome\"] = \"hg19\"\n",
    "    maindf[\"Input\"] = \"bsalign files\"\n",
    "    maindf[\"Project\"] = \"ECD_WGBS\"\n",
    "    maindf[\"Sub_project\"] = \"lowdepth_data\"\n",
    "\n",
    "    maindf[\"label1\"] = maindf[\"Labcode\"].apply(lambda x: metadata[metadata[\"SampleID\"] == x][\"Label\"].values[0] if x in metadata[\"SampleID\"].values else \"not available\")\n",
    "    maindf[\"label2\"] = maindf[\"Labcode\"].apply(lambda x: metadata[metadata[\"SampleID\"] == x][\"Run_TM\"].values[0] if x in metadata[\"SampleID\"].values else \"not available\")\n",
    "    maindf[\"label3\"] = maindf[\"Labcode\"].apply(lambda x: metadata[metadata[\"SampleID\"] == x][\"Run_GW\"].values[0] if x in metadata[\"SampleID\"].values else \"not available\")\n",
    "\n",
    "    maindf[\"label4\"] = \"not available\"\n",
    "\n",
    "    maindf[\"Note\"] = \"not available\"\n",
    "    maindf[\"member\"] = \"hieunguyen,hieutran\"\n",
    "\n",
    "    maindf.to_csv(os.path.join(path_to_save_prep_metadata, \"{}.{}.{}.metadata.csv\".format(data_name, sub_data_name, feature_name)), index = False)\n",
    "else:\n",
    "    maindf = pd.read_csv(os.path.join(path_to_save_prep_metadata, \"{}.{}.{}.metadata.csv\".format(data_name, sub_data_name, feature_name)))\n",
    "    print(\"The metadata has been already generated\")\n",
    "maindf = maindf.set_index(\"path\")\n",
    "input_dict = maindf.to_dict(orient = \"index\") # the input metadata is ready to be added to the database elasticsearch\n",
    "\n",
    "##### Credential\n",
    "path_to_main_input = \"./examples/dummy_data\"    \n",
    "minio_credential = \"credentials.macstudio.json\"\n",
    "es_credential = \"es_credential.json\"\n",
    "\n",
    "bamBucket = RDSBucket( \n",
    "                        minio_credential = minio_credential, \n",
    "                        bucketName = \"wgbsfeature\",\n",
    "                        PROFILE_NAME = \"wgbsfeature\",\n",
    "                        DATA_PROFILES = DATA_PROFILES,\n",
    "                        es_credential = es_credential, \n",
    "                        versioning = True, \n",
    "                        verbose = False)\n",
    "bamBucket.initBucket()\n",
    "\n",
    "for path in tqdm(input_dict.keys()):\n",
    "    file_metadata = input_dict[path]\n",
    "    bamBucket.upload_file_to_bucket(path_to_file = path, \n",
    "                                    object_name= file_metadata[\"FileName\"], \n",
    "                                    file_metadata = file_metadata)"
   ]
  }
 ],
 "metadata": {
  "kernelspec": {
   "display_name": "minio_dev",
   "language": "python",
   "name": "python3"
  },
  "language_info": {
   "codemirror_mode": {
    "name": "ipython",
    "version": 3
   },
   "file_extension": ".py",
   "mimetype": "text/x-python",
   "name": "python",
   "nbconvert_exporter": "python",
   "pygments_lexer": "ipython3",
   "version": "3.9.19"
  }
 },
 "nbformat": 4,
 "nbformat_minor": 2
}
