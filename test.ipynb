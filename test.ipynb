{
 "cells": [
  {
   "cell_type": "code",
   "execution_count": 3,
   "metadata": {},
   "outputs": [
    {
     "name": "stdout",
     "output_type": "stream",
     "text": [
      "Bucket 'dev' already exists.\n"
     ]
    },
    {
     "name": "stderr",
     "output_type": "stream",
     "text": [
      "100%|██████████| 100/100 [00:38<00:00,  2.58it/s]\n"
     ]
    },
    {
     "name": "stdout",
     "output_type": "stream",
     "text": [
      "Metadata extracted successfully.\n"
     ]
    }
   ],
   "source": [
    "import minio\n",
    "from minio.error import S3Error\n",
    "from minio.commonconfig import ENABLED\n",
    "from minio.versioningconfig import VersioningConfig\n",
    "\n",
    "import pathlib\n",
    "import pandas as pd\n",
    "import os\n",
    "import json\n",
    "from tqdm import tqdm\n",
    "\n",
    "from minio_utils import * \n",
    "#####-------------------------------------------------------------#####\n",
    "# MAIN RUN\n",
    "#####-------------------------------------------------------------#####\n",
    "# Create a new bucket\n",
    "minio_credentials = \"credentials_python_minio.json\"\n",
    "create_bucket(bucket_name = \"dev\", minio_credentials = minio_credentials)\n",
    "\n",
    "# Upload the dummy input file in examples\n",
    "dummy_folder = \"/media/hieunguyen/HNSD01/outdir/TCGA_20240612/idat_20240612\"\n",
    "path_to_dummy_metadata = \"/media/hieunguyen/HNSD01/outdir/TCGA_20240612/01_output/sampling_metadata.csv\"\n",
    "dummy_metadata = pd.read_csv(path_to_dummy_metadata, index_col = [0]).drop(\"X\", axis = 1)\n",
    "all_files = [item for item in pathlib.Path(dummy_folder).glob(\"*.idat\")]\n",
    "\n",
    "for input_file in tqdm(all_files[:100]):\n",
    "# for input_file in [item for item in all_files if \"7fa33bdd-b12b-4f16-8eaf-22b22e1a257f_noid_Grn.idat\" in item.name]:\n",
    "    file_name = input_file.name\n",
    "    base_metadata = {\"User\": \"Hieu Nguyen\", \n",
    "                      \"Project\": \"ECD\", \n",
    "                      \"Sub_project\": \"TCGA_exploration\"}\n",
    "    dict_from_metadata = dummy_metadata[dummy_metadata[\"File.Name\"] == file_name].squeeze().to_dict()\n",
    "    input_metadata = {**base_metadata, **dict_from_metadata}\n",
    "    \n",
    "    # lower cases all letters in keys\n",
    "    input_metadata = {k.lower(): v for k, v in input_metadata.items()}\n",
    "    \n",
    "    upload_file_with_metadata(\n",
    "        bucket_name = \"dev\",\n",
    "        object_name = file_name,\n",
    "        file_to_upload = input_file,\n",
    "        metadata = input_metadata, \n",
    "        # <<<< FIX ME HIEU: should have a smart way to define metadata and restrict metadata template.\n",
    "        # maybe if the bucket is new, the first input metadata will be the template for the bucket.\n",
    "        # if the bucket already exists, the metadata should be validated against the template.\n",
    "        minio_credentials = minio_credentials)\n",
    "\n",
    "# extract metadata from bucket\n",
    "metadatadf = extract_metadata_of_all_objects(bucket_name = \"dev\", minio_credentials = minio_credentials, simplified = True)\n"
   ]
  }
 ],
 "metadata": {
  "kernelspec": {
   "display_name": "minio",
   "language": "python",
   "name": "python3"
  },
  "language_info": {
   "codemirror_mode": {
    "name": "ipython",
    "version": 3
   },
   "file_extension": ".py",
   "mimetype": "text/x-python",
   "name": "python",
   "nbconvert_exporter": "python",
   "pygments_lexer": "ipython3",
   "version": "3.9.19"
  }
 },
 "nbformat": 4,
 "nbformat_minor": 2
}
