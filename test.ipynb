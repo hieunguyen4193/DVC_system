{
 "cells": [
  {
   "cell_type": "code",
   "execution_count": 2,
   "metadata": {},
   "outputs": [
    {
     "name": "stdout",
     "output_type": "stream",
     "text": [
      "Bucket 'dev' already exists.\n",
      "Metadata extracted successfully.\n"
     ]
    }
   ],
   "source": [
    "import minio\n",
    "from minio.error import S3Error\n",
    "from minio.commonconfig import ENABLED\n",
    "from minio.versioningconfig import VersioningConfig\n",
    "\n",
    "import pathlib\n",
    "import pandas as pd\n",
    "import os\n",
    "import json\n",
    "from tqdm import tqdm\n",
    "\n",
    "from minio_utils import * \n",
    "#####-------------------------------------------------------------#####\n",
    "# MAIN RUN\n",
    "#####-------------------------------------------------------------#####\n",
    "# Create a new bucket\n",
    "minio_credentials = \"credentials_python_minio.json\"\n",
    "create_bucket(bucket_name = \"dev\", minio_credentials = minio_credentials)\n",
    "\n",
    "# Upload the dummy input file in examples\n",
    "dummy_folder = \"/media/hieunguyen/HNSD01/outdir/TCGA_20240612/idat_20240612\"\n",
    "path_to_dummy_metadata = \"/media/hieunguyen/HNSD01/outdir/TCGA_20240612/01_output/sampling_metadata.csv\"\n",
    "dummy_metadata = pd.read_csv(path_to_dummy_metadata, index_col = [0]).drop(\"X\", axis = 1)\n",
    "all_files = [item for item in pathlib.Path(dummy_folder).glob(\"*.idat\")]\n",
    "\n",
    "# for input_file in tqdm(all_files[:100]):\n",
    "# # for input_file in [item for item in all_files if \"7fa33bdd-b12b-4f16-8eaf-22b22e1a257f_noid_Grn.idat\" in item.name]:\n",
    "#     file_name = input_file.name\n",
    "#     base_metadata = {\"User\": \"Hieu Nguyen\", \n",
    "#                       \"Project\": \"ECD\", \n",
    "#                       \"Sub_project\": \"TCGA_exploration\"}\n",
    "#     dict_from_metadata = dummy_metadata[dummy_metadata[\"File.Name\"] == file_name].squeeze().to_dict()\n",
    "#     input_metadata = {**base_metadata, **dict_from_metadata}\n",
    "    \n",
    "#     # lower cases all letters in keys\n",
    "#     input_metadata = {k.lower(): v for k, v in input_metadata.items()}\n",
    "    \n",
    "#     upload_file_with_metadata(\n",
    "#         bucket_name = \"dev\",\n",
    "#         object_name = file_name,\n",
    "#         file_to_upload = input_file,\n",
    "#         metadata = input_metadata, \n",
    "#         # <<<< FIX ME HIEU: should have a smart way to define metadata and restrict metadata template.\n",
    "#         # maybe if the bucket is new, the first input metadata will be the template for the bucket.\n",
    "#         # if the bucket already exists, the metadata should be validated against the template.\n",
    "#         minio_credentials = minio_credentials)\n",
    "\n",
    "# extract metadata from bucket\n",
    "metadatadf = extract_metadata_of_all_objects(bucket_name = \"dev\", minio_credentials = minio_credentials, simplified = True)\n",
    "b"
   ]
  },
  {
   "cell_type": "code",
   "execution_count": 6,
   "metadata": {},
   "outputs": [
    {
     "data": {
      "text/plain": [
       "{'url': 'http://localhost:9001/api/v1/service-account-credentials',\n",
       " 'accessKey': 'oUEuDDES38CCJ4J43Cq8',\n",
       " 'secretKey': 'ZsLQ1LA3KL1joPXtf6tWzJXkB5kd57RuXbwTqHMs',\n",
       " 'api': 's3v4',\n",
       " 'path': 'auto'}"
      ]
     },
     "execution_count": 6,
     "metadata": {},
     "output_type": "execute_result"
    }
   ],
   "source": [
    "keys"
   ]
  },
  {
   "cell_type": "code",
   "execution_count": 20,
   "metadata": {},
   "outputs": [
    {
     "name": "stdout",
     "output_type": "stream",
     "text": [
      "searching in dev\n",
      "searching in emlinh\n"
     ]
    }
   ],
   "source": [
    "search_criteria = \".idat\"\n",
    "with open(minio_credentials, 'r') as file:\n",
    "        keys = json.load(file)\n",
    "    \n",
    "# Initialize MinIO client\n",
    "minio_client = minio.Minio(\n",
    "        \"localhost:9000\",\n",
    "        access_key=keys['accessKey'],\n",
    "        secret_key=keys['secretKey'],\n",
    "        secure=False\n",
    "    )\n",
    "    \n",
    "# List all buckets\n",
    "buckets = minio_client.list_buckets()\n",
    "    \n",
    "# Initialize a dictionary to hold search results\n",
    "search_results = {}\n",
    "    \n",
    "# Iterate through each bucket\n",
    "for bucket in buckets[1:3]:\n",
    "    print(\"searching in {}\".format(bucket))\n",
    "    bucket_name = bucket.name\n",
    "    # List or search objects in the bucket\n",
    "    objects = minio_client.list_objects(bucket_name, prefix=search_criteria, recursive=True)\n",
    "    # Compile results\n",
    "    for obj in objects:\n",
    "        print(obj)\n",
    "        if search_criteria in obj.object_name:\n",
    "            if bucket_name not in search_results:\n",
    "                search_results[bucket_name] = []\n",
    "                search_results[bucket_name].append(obj.object_name)"
   ]
  }
 ],
 "metadata": {
  "kernelspec": {
   "display_name": "minio",
   "language": "python",
   "name": "python3"
  },
  "language_info": {
   "codemirror_mode": {
    "name": "ipython",
    "version": 3
   },
   "file_extension": ".py",
   "mimetype": "text/x-python",
   "name": "python",
   "nbconvert_exporter": "python",
   "pygments_lexer": "ipython3",
   "version": "3.9.19"
  }
 },
 "nbformat": 4,
 "nbformat_minor": 2
}
