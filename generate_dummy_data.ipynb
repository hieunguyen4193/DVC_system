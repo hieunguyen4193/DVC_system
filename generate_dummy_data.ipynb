{
 "cells": [
  {
   "cell_type": "code",
   "execution_count": 7,
   "metadata": {},
   "outputs": [],
   "source": [
    "import pandas as pd\n",
    "import os\n",
    "import random\n",
    "import string\n",
    "\n",
    "def generate_dummy_data():\n",
    "    \"\"\"\n",
    "    Generates dummy data files with random labcodes and file types.\n",
    "\n",
    "    This function creates a directory structure and generates dummy data files\n",
    "    with random labcodes and file types. The labcodes are generated using a\n",
    "    combination of random letters and numbers. The file types are specified in\n",
    "    the `file_types` list.\n",
    "\n",
    "    Returns:\n",
    "        None\n",
    "    \"\"\"\n",
    "    path_to_save_output = \"./examples/dummy_data\"\n",
    "    os.system(\"mkdir -p {}\".format(path_to_save_output))\n",
    "\n",
    "    file_types = [\"fastq\", \"bam\", \"cov\", \"csv\", \"pkl\", \"vcf\", \"bed\"]\n",
    "\n",
    "    labcodes = [\n",
    "        \"{}{}{}{}{}{}\".format(\n",
    "            random.choice(string.ascii_letters),\n",
    "            random.choice(string.ascii_letters),\n",
    "            random.choice(string.ascii_letters),\n",
    "            random.randint(0, 9),\n",
    "            random.randint(0, 9),\n",
    "            random.randint(0, 9)) for i in range(100)]\n",
    "\n",
    "    for filetype in file_types:\n",
    "        os.system(\"mkdir -p {}\".format(os.path.join(path_to_save_output, filetype)))\n",
    "        for labcode in labcodes:\n",
    "            outputdata = pd.DataFrame(data = [\"{}_{}\".format(labcode, filetype)])\n",
    "            outputdata.to_csv(os.path.join(path_to_save_output, filetype, \"{}.{}\".format(labcode, filetype)))\n",
    "\n",
    "# Call the function to generate the dummy data\n",
    "generate_dummy_data()\n"
   ]
  }
 ],
 "metadata": {
  "kernelspec": {
   "display_name": "nguyen",
   "language": "python",
   "name": "python3"
  },
  "language_info": {
   "codemirror_mode": {
    "name": "ipython",
    "version": 3
   },
   "file_extension": ".py",
   "mimetype": "text/x-python",
   "name": "python",
   "nbconvert_exporter": "python",
   "pygments_lexer": "ipython3",
   "version": "3.9.9"
  }
 },
 "nbformat": 4,
 "nbformat_minor": 2
}
