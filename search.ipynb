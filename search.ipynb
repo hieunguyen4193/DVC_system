{
 "cells": [
  {
   "cell_type": "code",
   "execution_count": 1,
   "metadata": {},
   "outputs": [],
   "source": [
    "import pandas as pd\n",
    "import os \n",
    "import pathlib \n",
    "import glob\n",
    "from datetime import datetime\n",
    "from tqdm import tqdm\n",
    "\n",
    "from dotenv import load_dotenv\n",
    "from elasticsearch import Elasticsearch\n",
    "\n",
    "import minio\n",
    "from minio.error import S3Error\n",
    "from minio.commonconfig import ENABLED\n",
    "from minio.versioningconfig import VersioningConfig\n",
    "\n",
    "from RDSBucket_class import *\n",
    "from data_profiles import *\n",
    "\n",
    "import warnings\n",
    "warnings.filterwarnings(\"ignore\")\n",
    "\n",
    "#####----------------------------------------------------------------#####\n",
    "##### preprocessing metadata for bam file\n",
    "#####----------------------------------------------------------------#####\n",
    "\n",
    "path_to_save_prep_metadata = \"/Users/hieunguyen/src/DVC_system/examples/dummy_from_real/prep_metadata\"\n",
    "os.system(\"mkdir -p {}\".format(path_to_save_prep_metadata))\n",
    "\n",
    "path_to_main_input = \"./examples/dummy_data\"    \n",
    "minio_credential = \"credentials.mb.json\"\n",
    "es_credential = \"es_credential.json\"\n",
    "\n",
    "donwloaddir = \"./examples/download\"\n",
    "os.system(\"mkdir  -p {}\".format(donwloaddir))\n",
    "\n",
    "##### genearte the connection to Elasticsearch\n",
    "es = ESearch(es_credential = es_credential)\n",
    "\n",
    "##### define search query\n",
    "search_query = {\n",
    "  \"query\": {\n",
    "    \"match\": {\n",
    "      \"Labcode\": \"ZLBE113NB\"\n",
    "    }\n",
    "  }\n",
    "}\n",
    "\n",
    "##### define search index\n",
    "search_indices = \"wgsfeature\"\n",
    "\n",
    "##### get the search results\n",
    "search_res = es.search(search_indices = \"wgsfeature\", search_query = search_query)\n"
   ]
  },
  {
   "cell_type": "code",
   "execution_count": 6,
   "metadata": {},
   "outputs": [
    {
     "name": "stdout",
     "output_type": "stream",
     "text": [
      "File '9-ZLBE113NB_S95053-S97053_GWfeature_CNA_short.rds' downloaded successfully.\n"
     ]
    },
    {
     "data": {
      "text/plain": [
       "True"
      ]
     },
     "execution_count": 6,
     "metadata": {},
     "output_type": "execute_result"
    }
   ],
   "source": [
    "i = 0\n",
    "bucketName = search_res.loc[i][\"bucket\"]\n",
    "object_name = search_res.loc[i][\"FileName\"]\n",
    "versionID = search_res.loc[i][\"versionID\"]\n",
    "\n",
    "download_selected_file(minio_credential = minio_credential, \n",
    "                       bucketName = bucketName,\n",
    "                       object_name = object_name, \n",
    "                       versionID = versionID, \n",
    "                       downloaddir = donwloaddir)"
   ]
  }
 ],
 "metadata": {
  "kernelspec": {
   "display_name": "minio_dev",
   "language": "python",
   "name": "python3"
  },
  "language_info": {
   "codemirror_mode": {
    "name": "ipython",
    "version": 3
   },
   "file_extension": ".py",
   "mimetype": "text/x-python",
   "name": "python",
   "nbconvert_exporter": "python",
   "pygments_lexer": "ipython3",
   "version": "3.8.19"
  }
 },
 "nbformat": 4,
 "nbformat_minor": 2
}
