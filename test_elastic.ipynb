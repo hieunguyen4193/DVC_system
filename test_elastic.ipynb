{
 "cells": [
  {
   "cell_type": "code",
   "execution_count": 1,
   "metadata": {},
   "outputs": [
    {
     "name": "stdout",
     "output_type": "stream",
     "text": [
      "Connected to Elasticsearch!\n",
      "{'cluster_name': 'docker-cluster',\n",
      " 'cluster_uuid': 'NsOWoTPiSUuzdR39O9X-4w',\n",
      " 'name': '374a4a1dbfca',\n",
      " 'tagline': 'You Know, for Search',\n",
      " 'version': {'build_date': '2024-07-01T22:06:58.515911606Z',\n",
      "             'build_flavor': 'default',\n",
      "             'build_hash': '2afe7caceec8a26ff53817e5ed88235e90592a1b',\n",
      "             'build_snapshot': False,\n",
      "             'build_type': 'docker',\n",
      "             'lucene_version': '9.10.0',\n",
      "             'minimum_index_compatibility_version': '7.0.0',\n",
      "             'minimum_wire_compatibility_version': '7.17.0',\n",
      "             'number': '8.14.2'}}\n"
     ]
    }
   ],
   "source": [
    "##### connect to the elasticsearch server\n",
    "import json\n",
    "from pprint import pprint\n",
    "import os\n",
    "import time\n",
    "\n",
    "from dotenv import load_dotenv\n",
    "from elasticsearch import Elasticsearch\n",
    "\n",
    "load_dotenv()\n",
    "\n",
    "class Search:\n",
    "    def __init__(self, username, password):\n",
    "        self.username = username\n",
    "        self.password = password\n",
    "        self.es = Elasticsearch(\n",
    "            \"http://localhost:9200\", # deployed locally, no cloud\n",
    "            basic_auth=(username, password))  # <-- connection options need to be added here\n",
    "        client_info = self.es.info()\n",
    "        print('Connected to Elasticsearch!')\n",
    "        pprint(client_info.body)\n",
    "        \n",
    "    def create_index(self, index_name, metadata_profile):\n",
    "        self.es.indices.create(index = index_name,  mappings = metadata_profile)\n",
    "\n",
    "##### print the client info, check if the elasticsearch server is running\n",
    "my_es = Search(\"elastic\", \"genov4\")"
   ]
  },
  {
   "cell_type": "code",
   "execution_count": 12,
   "metadata": {},
   "outputs": [
    {
     "name": "stderr",
     "output_type": "stream",
     "text": [
      "/var/folders/8j/g55jqp3s7mj16s_gvcwb4y800000gn/T/ipykernel_88590/3076276374.py:1: DeprecationWarning: Passing transport options in the API method is deprecated. Use 'Elasticsearch.options()' instead.\n",
      "  es.es.indices.create(index='test-index', ignore=400)\n"
     ]
    },
    {
     "data": {
      "text/plain": [
       "ObjectApiResponse({'acknowledged': True, 'shards_acknowledged': True, 'index': 'test-index'})"
      ]
     },
     "execution_count": 12,
     "metadata": {},
     "output_type": "execute_result"
    }
   ],
   "source": [
    "metadata_profile = {\n",
    "    \"properties\": {\n",
    "        \"SampleID\": {\n",
    "            \"type\": \"text\"\n",
    "        },\n",
    "        \"FileName\": {\n",
    "            \"type\": \"text\"\n",
    "        },\n",
    "        \"author\": {\n",
    "            \"type\": \"text\"\n",
    "        },\n",
    "        \"created\": {\n",
    "            \"type\": \"date\"\n",
    "        },\n",
    "        \"pipeline\": {\n",
    "            \"type\": \"keyword\"\n",
    "        }\n",
    "    }\n",
    "\n",
    "}\n",
    "my_es.create_index(index_name = \"test\", metadata_profile = test_metadata_profile)"
   ]
  }
 ],
 "metadata": {
  "kernelspec": {
   "display_name": "minio_dev",
   "language": "python",
   "name": "python3"
  },
  "language_info": {
   "codemirror_mode": {
    "name": "ipython",
    "version": 3
   },
   "file_extension": ".py",
   "mimetype": "text/x-python",
   "name": "python",
   "nbconvert_exporter": "python",
   "pygments_lexer": "ipython3",
   "version": "3.9.19"
  }
 },
 "nbformat": 4,
 "nbformat_minor": 2
}
