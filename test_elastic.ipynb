{
 "cells": [
  {
   "cell_type": "code",
   "execution_count": 23,
   "metadata": {},
   "outputs": [
    {
     "name": "stdout",
     "output_type": "stream",
     "text": [
      "Connected to Elasticsearch!\n",
      "{'cluster_name': 'docker-cluster',\n",
      " 'cluster_uuid': 'SNT6DPXwT_SU_8AFROVQSw',\n",
      " 'name': '75bdaad07a27',\n",
      " 'tagline': 'You Know, for Search',\n",
      " 'version': {'build_date': '2024-07-01T22:06:58.515911606Z',\n",
      "             'build_flavor': 'default',\n",
      "             'build_hash': '2afe7caceec8a26ff53817e5ed88235e90592a1b',\n",
      "             'build_snapshot': False,\n",
      "             'build_type': 'docker',\n",
      "             'lucene_version': '9.10.0',\n",
      "             'minimum_index_compatibility_version': '7.0.0',\n",
      "             'minimum_wire_compatibility_version': '7.17.0',\n",
      "             'number': '8.14.2'}}\n"
     ]
    }
   ],
   "source": [
    "##### connect to the elasticsearch server\n",
    "import json\n",
    "from pprint import pprint\n",
    "import os\n",
    "import time\n",
    "import pandas as pd \n",
    "from datetime import datetime\n",
    "\n",
    "import pathlib\n",
    "from dotenv import load_dotenv\n",
    "from elasticsearch import Elasticsearch\n",
    "\n",
    "from DataProfile_JSON_db import *\n",
    "load_dotenv()\n",
    "\n",
    "##### dummy files to upload to minio and elasticsearch\n",
    "path_to_main_input = \"./examples/dummy_data\"\n",
    "\n",
    "class ESearch:\n",
    "    def __init__(self, username, password):\n",
    "        self.username = username\n",
    "        self.password = password\n",
    "        self.es = Elasticsearch(\n",
    "            \"http://localhost:9200\", # deployed locally, no cloud\n",
    "            basic_auth=(username, password))  # <-- connection options need to be added here\n",
    "        client_info = self.es.info()\n",
    "        print('Connected to Elasticsearch!')\n",
    "        pprint(client_info.body)\n",
    "        \n",
    "    def create_index(self, index_name, metadata_profile):\n",
    "        self.es.indices.create(index = index_name,  mappings = metadata_profile)\n",
    "\n",
    "    def insert_document(self, document, index):\n",
    "        return self.es.index(index = index, body=document)\n",
    "\n",
    "##### print the client info, check if the elasticsearch server is running\n",
    "my_es = ESearch(\"elastic\", \"genov4\")\n"
   ]
  },
  {
   "cell_type": "code",
   "execution_count": 39,
   "metadata": {},
   "outputs": [],
   "source": [
    "##### prepare data to be added to database\n",
    "file_type = \"bam\"\n",
    "input_files = [item for item in pathlib.Path(os.path.join(path_to_main_input, file_type)).glob(\"*.{}\".format(file_type))]\n",
    "input_metadata = pd.DataFrame(data = [item.name for item in input_files], columns = [\"FileName\"])\n",
    "input_metadata[\"FileType\"] = file_type\n",
    "input_metadata[\"Labcode\"] = input_metadata[\"FileName\"].apply(lambda x: x.replace(\".{}\".format(file_type), \"\"))\n",
    "input_metadata[\"path\"] = [\"./examples/dummy_data/{}/{}.{}\".format(file_type, labcode, file_type) for labcode in input_metadata.Labcode.values]\n",
    "input_metadata[\"project\"] = \"ECD\"\n",
    "input_metadata[\"sub_project\"] = \"ECD_read_based\"\n",
    "input_metadata[\"Date\"] = datetime.now()\n",
    "input_metadata[\"pipeline\"] = \"bismark_wgbs\"\n",
    "\n",
    "input_metadata = input_metadata.set_index(\"path\")\n",
    "\n",
    "input_metadata_dict = input_metadata.to_dict(orient = \"index\")"
   ]
  },
  {
   "cell_type": "code",
   "execution_count": 7,
   "metadata": {},
   "outputs": [],
   "source": [
    "##### load the data profile database\n",
    "db = DataProfileDB(\"ALL_DATA_PROFILES.json\")\n",
    "\n",
    "##### choose the data profile name, example: choose \"dev2\"\n",
    "profile_name = \"dev2\"\n",
    "my_es.create_index(index_name = profile_name, metadata_profile = db.get_record(profile_name)[profile_name])\n",
    "\n"
   ]
  },
  {
   "cell_type": "code",
   "execution_count": 22,
   "metadata": {},
   "outputs": [
    {
     "ename": "ModuleNotFoundError",
     "evalue": "No module named 'Datetime'",
     "output_type": "error",
     "traceback": [
      "\u001b[0;31m---------------------------------------------------------------------------\u001b[0m",
      "\u001b[0;31mModuleNotFoundError\u001b[0m                       Traceback (most recent call last)",
      "\u001b[0;32m/var/folders/t1/lb5dl54x3zd6llz3g085wwf40000gn/T/ipykernel_17701/336032911.py\u001b[0m in \u001b[0;36m<module>\u001b[0;34m\u001b[0m\n\u001b[0;32m----> 1\u001b[0;31m \u001b[0;32mimport\u001b[0m \u001b[0mDatetime\u001b[0m\u001b[0;34m\u001b[0m\u001b[0;34m\u001b[0m\u001b[0m\n\u001b[0m\u001b[1;32m      2\u001b[0m \u001b[0mDatetime\u001b[0m\u001b[0;34m.\u001b[0m\u001b[0mnow\u001b[0m\u001b[0;34m(\u001b[0m\u001b[0;34m)\u001b[0m\u001b[0;34m\u001b[0m\u001b[0;34m\u001b[0m\u001b[0m\n",
      "\u001b[0;31mModuleNotFoundError\u001b[0m: No module named 'Datetime'"
     ]
    }
   ],
   "source": []
  }
 ],
 "metadata": {
  "kernelspec": {
   "display_name": "minio_dev",
   "language": "python",
   "name": "python3"
  },
  "language_info": {
   "codemirror_mode": {
    "name": "ipython",
    "version": 3
   },
   "file_extension": ".py",
   "mimetype": "text/x-python",
   "name": "python",
   "nbconvert_exporter": "python",
   "pygments_lexer": "ipython3",
   "version": "3.9.9"
  }
 },
 "nbformat": 4,
 "nbformat_minor": 2
}
