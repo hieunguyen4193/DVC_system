{
 "cells": [
  {
   "cell_type": "code",
   "execution_count": 2,
   "metadata": {},
   "outputs": [
    {
     "name": "stdout",
     "output_type": "stream",
     "text": [
      "Bucket 'wgsbam' created successfully.\n",
      "Bucket 'wgsbam' already exists. Cannot create bucket with the same name. Please choose another name\n"
     ]
    }
   ],
   "source": [
    "import pandas as pd\n",
    "import os \n",
    "import pathlib \n",
    "import glob\n",
    "from datetime import datetime\n",
    "from tqdm import tqdm\n",
    "\n",
    "from dotenv import load_dotenv\n",
    "from elasticsearch import Elasticsearch\n",
    "\n",
    "import minio\n",
    "from minio.error import S3Error\n",
    "from minio.commonconfig import ENABLED\n",
    "from minio.versioningconfig import VersioningConfig\n",
    "\n",
    "from RDSBucket_class import *\n",
    "from data_profiles import *\n",
    "\n",
    "import warnings\n",
    "warnings.filterwarnings(\"ignore\")\n",
    "\n",
    "#####----------------------------------------------------------------#####\n",
    "##### preprocessing metadata for bam file\n",
    "#####----------------------------------------------------------------#####\n",
    "\n",
    "path_to_save_prep_metadata = \"/Users/hieunguyen/src/DVC_system/examples/dummy_from_real/prep_metadata\"\n",
    "os.system(\"mkdir -p {}\".format(path_to_save_prep_metadata))\n",
    "\n",
    "path_to_main_input = \"./examples/dummy_data\"    \n",
    "minio_credential = \"credentials.mb.json\"\n",
    "es_credential = \"es_credential.json\"\n",
    "\n",
    "# define path to data folder, seperated by data type (bam, cov, features, ...)\n",
    "path_to_ecd_data = \"./examples/dummy_from_real\"\n",
    "path_to_metadata_dir = \"./ECD_metadata\"\n",
    "\n"
   ]
  },
  {
   "cell_type": "code",
   "execution_count": null,
   "metadata": {},
   "outputs": [],
   "source": []
  }
 ],
 "metadata": {
  "kernelspec": {
   "display_name": "minio_dev",
   "language": "python",
   "name": "python3"
  },
  "language_info": {
   "codemirror_mode": {
    "name": "ipython",
    "version": 3
   },
   "file_extension": ".py",
   "mimetype": "text/x-python",
   "name": "python",
   "nbconvert_exporter": "python",
   "pygments_lexer": "ipython3",
   "version": "3.8.19"
  }
 },
 "nbformat": 4,
 "nbformat_minor": 2
}
